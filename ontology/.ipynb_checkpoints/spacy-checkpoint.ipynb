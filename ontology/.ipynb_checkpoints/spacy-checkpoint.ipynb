{
 "cells": [
  {
   "cell_type": "code",
   "execution_count": 3,
   "metadata": {
    "colab": {
     "base_uri": "https://localhost:8080/"
    },
    "executionInfo": {
     "elapsed": 1885,
     "status": "ok",
     "timestamp": 1654416955223,
     "user": {
      "displayName": "Huynh Anh Ngoc Nguyen",
      "userId": "09806619297342663854"
     },
     "user_tz": -120
    },
    "id": "a6HAPRPH2nkk",
    "outputId": "5e71e929-9c16-4991-d0cf-ae39c0de3b2a"
   },
   "outputs": [
    {
     "ename": "ModuleNotFoundError",
     "evalue": "No module named 'spacy'",
     "output_type": "error",
     "traceback": [
      "\u001b[0;31m---------------------------------------------------------------------------\u001b[0m",
      "\u001b[0;31mModuleNotFoundError\u001b[0m                       Traceback (most recent call last)",
      "Input \u001b[0;32mIn [3]\u001b[0m, in \u001b[0;36m<cell line: 1>\u001b[0;34m()\u001b[0m\n\u001b[0;32m----> 1\u001b[0m \u001b[38;5;28;01mimport\u001b[39;00m \u001b[38;5;21;01mspacy\u001b[39;00m\n\u001b[1;32m      2\u001b[0m nlp \u001b[38;5;241m=\u001b[39m spacy\u001b[38;5;241m.\u001b[39mload(\u001b[38;5;124m\"\u001b[39m\u001b[38;5;124men_core_web_sm\u001b[39m\u001b[38;5;124m\"\u001b[39m)\n\u001b[1;32m      3\u001b[0m doc \u001b[38;5;241m=\u001b[39mnlp(\u001b[38;5;124m'\u001b[39m\u001b[38;5;124mBananas are an excellent source of potassium.\u001b[39m\u001b[38;5;124m'\u001b[39m)\n",
      "\u001b[0;31mModuleNotFoundError\u001b[0m: No module named 'spacy'"
     ]
    }
   ],
   "source": [
    "import spacy\n",
    "nlp = spacy.load(\"en_core_web_sm\")\n",
    "doc =nlp('Bananas are an excellent source of potassium.')\n",
    "for np in doc.noun_chunks:\n",
    "    print(np.text)"
   ]
  },
  {
   "cell_type": "code",
   "execution_count": null,
   "metadata": {
    "colab": {
     "base_uri": "https://localhost:8080/"
    },
    "executionInfo": {
     "elapsed": 1079,
     "status": "ok",
     "timestamp": 1654417024349,
     "user": {
      "displayName": "Huynh Anh Ngoc Nguyen",
      "userId": "09806619297342663854"
     },
     "user_tz": -120
    },
    "id": "za9Av7Hu315e",
    "outputId": "07eaf624-ec8d-4c63-9175-dc0c9a836c54"
   },
   "outputs": [],
   "source": [
    "import spacy\n",
    "nlp=spacy.load(\"en_core_web_sm\")\n",
    "doc=nlp(\"When Sebastian Thrun started working on self-driving cars at \"\n",
    "    \"Google in 2007, few people outside of the company took him \"\n",
    "    \"seriously. “I can tell you very senior CEOs of major American \"\n",
    "    \"car companies would shake my hand and turn away because I wasn’t \"\n",
    "    \"worth talking to,” said Thrun, in an interview with Recode earlier \"\n",
    "    \"this week.\")\n",
    "#doc text is from spacy website\n",
    "for x in doc :\n",
    "  if x.pos_ == \"NOUN\": #or x.pos_ == \"PROPN\" or x.pos_==\"PRON\"\n",
    "    print(x)"
   ]
  },
  {
   "cell_type": "code",
   "execution_count": null,
   "metadata": {
    "colab": {
     "base_uri": "https://localhost:8080/",
     "height": 371
    },
    "executionInfo": {
     "elapsed": 10,
     "status": "error",
     "timestamp": 1654418507294,
     "user": {
      "displayName": "Huynh Anh Ngoc Nguyen",
      "userId": "09806619297342663854"
     },
     "user_tz": -120
    },
    "id": "mchPLwcj_dyY",
    "outputId": "7c28f0c7-c5ec-4502-9cfe-319c6f4ede8c"
   },
   "outputs": [],
   "source": [
    "import numpy as np\n",
    "import pandas as pd\n",
    "\n",
    "df = pd.read_csv('/content/drive/My Drive/Colab Notebooks/ontology/data/sentences.csv')"
   ]
  },
  {
   "cell_type": "code",
   "execution_count": null,
   "metadata": {
    "id": "00GgMcQa9bru"
   },
   "outputs": [],
   "source": [
    "import spacy\n",
    "nlp=spacy.load(\"en_core_web_sm\")\n",
    "\n",
    "for "
   ]
  }
 ],
 "metadata": {
  "accelerator": "GPU",
  "colab": {
   "authorship_tag": "ABX9TyNBhf/425mYKNGRE2/+Jsut",
   "collapsed_sections": [],
   "name": "spacy.ipynb",
   "provenance": []
  },
  "kernelspec": {
   "display_name": "Python 3 (ipykernel)",
   "language": "python",
   "name": "python3"
  },
  "language_info": {
   "codemirror_mode": {
    "name": "ipython",
    "version": 3
   },
   "file_extension": ".py",
   "mimetype": "text/x-python",
   "name": "python",
   "nbconvert_exporter": "python",
   "pygments_lexer": "ipython3",
   "version": "3.8.13"
  }
 },
 "nbformat": 4,
 "nbformat_minor": 1
}
